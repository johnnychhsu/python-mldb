{
 "cells": [
  {
   "cell_type": "markdown",
   "metadata": {},
   "source": [
    "### Random Forest Example using Titanic data\n",
    "In this notebook we demo the usage of python-mldb. You can access python-mldb through a single class, Dealer."
   ]
  },
  {
   "cell_type": "code",
   "execution_count": 1,
   "metadata": {},
   "outputs": [],
   "source": [
    "import os\n",
    "\n",
    "from python_mldb import Dealer\n",
    "\n",
    "\n",
    "path = os.path.abspath('./')"
   ]
  },
  {
   "cell_type": "code",
   "execution_count": 2,
   "metadata": {},
   "outputs": [
    {
     "name": "stdout",
     "output_type": "stream",
     "text": [
      "Connection established.\n",
      "Query: SHOW DATABASES; done.\n",
      "Warning: Database test already existed!\n",
      "Warning: cursor is empty!\n",
      "Query: USE test done.\n",
      "Dealer established, service start!\n"
     ]
    }
   ],
   "source": [
    "dealer = Dealer.Dealer(os.path.join(path, 'config_file/config.yaml'))"
   ]
  },
  {
   "cell_type": "markdown",
   "metadata": {},
   "source": [
    "### Dealer Intro\n",
    "When Dealer object establish, it can load *.csv file into database through dealer.dataset.\n",
    "Dealer can start a training procedure with the dataset using dealer.procedure.train."
   ]
  },
  {
   "cell_type": "code",
   "execution_count": 4,
   "metadata": {},
   "outputs": [
    {
     "name": "stdout",
     "output_type": "stream",
     "text": [
      "/home/johnny/my_repo/python-mldb/Example/../data/train.csv\n",
      "Failed : 1050 (42S01): Table 'TitanicTrain' already exists\n",
      "Query: LOAD DATA LOCAL INFILE '/home/johnny/my_repo/python-mldb/Example/../data/train.csv' INTO TABLE TitanicTrain FIELDS TERMINATED BY ',' LINES TERMINATED BY '\n",
      "' IGNORE 1 LINES done.\n"
     ]
    }
   ],
   "source": [
    "train_path = os.path.join(path, '../data/train.csv')\n",
    "os.path.exists(train_path)\n",
    "print (train_path)\n",
    "\n",
    "raw_data_name = 'TitanicTrain'\n",
    "dealer.dataset.save_to_database(train_path, 'TitanicTrain')"
   ]
  },
  {
   "cell_type": "code",
   "execution_count": 9,
   "metadata": {},
   "outputs": [
    {
     "name": "stdout",
     "output_type": "stream",
     "text": [
      "Query: SHOW COLUMNS FROM TitanicTrain done.\n",
      "Query: SELECT * FROM TitanicTrain done.\n"
     ]
    }
   ],
   "source": [
    "# Check the data we just save into database\n",
    "raw_data = dealer.dataset.load_from_database(raw_data_name)"
   ]
  },
  {
   "cell_type": "code",
   "execution_count": 16,
   "metadata": {},
   "outputs": [
    {
     "name": "stdout",
     "output_type": "stream",
     "text": [
      "Index(['PassengerId', 'Survived', 'Pclass', 'Name', 'Sex', 'Age', 'SibSp',\n",
      "       'Parch', 'Ticket', 'Fare', 'Cabin', 'Embarked'],\n",
      "      dtype='object')\n",
      "['1' '0' '3' '\"Braund' ' Mr. Owen Harris\"' '0' '22' '1' '0' '0.0' '7.25'\n",
      " '']\n",
      "['2' '1' '1' '\"Cumings' ' Mrs. John Bradley (Florence Briggs Thayer)\"' '0'\n",
      " '38' '1' '0' '0.0' '71.2833' 'C85']\n",
      "['3' '1' '3' '\"Heikkinen' ' Miss. Laina\"' '0' '26' '0' '0' '0.0' '7.925'\n",
      " '']\n",
      "['4' '1' '1' '\"Futrelle' ' Mrs. Jacques Heath (Lily May Peel)\"' '0' '35'\n",
      " '1' '0' '113803.0' '53.1' 'C123']\n",
      "['5' '0' '3' '\"Allen' ' Mr. William Henry\"' '0' '35' '0' '0' '373450.0'\n",
      " '8.05' '']\n"
     ]
    }
   ],
   "source": [
    "print(raw_data.columns)\n",
    "n = 5\n",
    "guests = raw_data.head(5).values\n",
    "for guest in guests:\n",
    "    print(guest)"
   ]
  },
  {
   "cell_type": "markdown",
   "metadata": {},
   "source": [
    "### Training Procedure\n",
    "Dealer.dataset will load the data we save into database, return a pandas.Dataframe object. We now use choose columns we want for our training process."
   ]
  },
  {
   "cell_type": "code",
   "execution_count": 17,
   "metadata": {},
   "outputs": [
    {
     "name": "stdout",
     "output_type": "stream",
     "text": [
      "[['3' ' Mr. Owen Harris\"' '0' '22' '1' '0.0']\n",
      " ['1' ' Mrs. John Bradley (Florence Briggs Thayer)\"' '0' '38' '1' '0.0']\n",
      " ['3' ' Miss. Laina\"' '0' '26' '0' '0.0']\n",
      " ...\n",
      " ['3' ' Miss. Catherine Helen \"\"Carrie\"\"\"' '0' '0' '1' '0.0']\n",
      " ['1' ' Mr. Karl Howell\"' '0' '26' '0' '111369.0']\n",
      " ['3' ' Mr. Patrick\"' '0' '32' '0' '370376.0']] [['0']\n",
      " ['1']\n",
      " ['1']\n",
      " ...\n",
      " ['0']\n",
      " ['1']\n",
      " ['0']]\n"
     ]
    }
   ],
   "source": [
    "# Select the feature we want\n",
    "train_feature_list = ['Pclass', 'Sex', 'Age', 'SibSp', 'Parch', 'Fare']\n",
    "train_label = ['Survived']\n",
    "\n",
    "train_x = raw_data[train_feature_list].values\n",
    "train_y = raw_data[train_label].values\n"
   ]
  },
  {
   "cell_type": "code",
   "execution_count": null,
   "metadata": {},
   "outputs": [],
   "source": []
  }
 ],
 "metadata": {
  "kernelspec": {
   "display_name": "python_mldb",
   "language": "python",
   "name": "python_mldb"
  },
  "language_info": {
   "codemirror_mode": {
    "name": "ipython",
    "version": 3
   },
   "file_extension": ".py",
   "mimetype": "text/x-python",
   "name": "python",
   "nbconvert_exporter": "python",
   "pygments_lexer": "ipython3",
   "version": "3.6.7"
  }
 },
 "nbformat": 4,
 "nbformat_minor": 2
}
